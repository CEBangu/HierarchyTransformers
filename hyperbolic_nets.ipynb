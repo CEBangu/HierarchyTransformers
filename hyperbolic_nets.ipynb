{
 "cells": [
  {
   "cell_type": "code",
   "execution_count": 29,
   "metadata": {},
   "outputs": [],
   "source": [
    "import geoopt as g\n",
    "import torch\n",
    "from torch.utils.data import DataLoader\n",
    "import numpy as np\n",
    "from datasets import load_dataset\n",
    "from hierarchy_transformers import HierarchyTransformer\n",
    "from sentence_transformers import SentenceTransformer\n",
    "from transformers import AutoTokenizer, AutoModel\n",
    "from scipy.stats import pearsonr\n",
    "import umap\n",
    "import matplotlib.pyplot as plt\n",
    "import os"
   ]
  },
  {
   "cell_type": "markdown",
   "metadata": {},
   "source": [
    "by Ciprian Bangu & Daniel Dager"
   ]
  },
  {
   "cell_type": "markdown",
   "metadata": {},
   "source": [
    "# Notebook 2: Going beyond the paper: A test of language understanding\n",
    "\n",
    "As He et al. (2024) note, the question remains as to whether hyperbolic language models retain their language understanding abilities. In this notebook, we aim to answer this question by assessing the Hyperbolic and base version of the model on the STS-B dataset (Cer et al. 2017). \n",
    "\n",
    "The STS-B is a semantic similarity dataset that aims to assess whether language model's judgment (via cosine similarity) of the similarity of sentences matches that of humans. Thus, comparing the scores on this evaluation between the HiT and the base Language Model will give us an idea of how much, if any, language understanding is lost by the hyperbolization and retraining process.\n",
    "\n"
   ]
  },
  {
   "cell_type": "markdown",
   "metadata": {},
   "source": [
    "### Dataset Loading and Formatting"
   ]
  },
  {
   "cell_type": "code",
   "execution_count": 3,
   "metadata": {},
   "outputs": [],
   "source": [
    "# semantic text similarity\n",
    "sts_b = load_dataset(\"glue\", \"stsb\")"
   ]
  },
  {
   "cell_type": "code",
   "execution_count": 4,
   "metadata": {},
   "outputs": [],
   "source": [
    "# tokenizer for the model\n",
    "tokenizer_HiT = AutoTokenizer.from_pretrained(\"Hierarchy-Transformers/HiT-MiniLM-L12-WordNetNoun\")\n",
    "tokenizer_allMini = AutoTokenizer.from_pretrained(\"sentence-transformers/all-MiniLM-L12-v2\")"
   ]
  },
  {
   "cell_type": "code",
   "execution_count": 5,
   "metadata": {},
   "outputs": [
    {
     "data": {
      "application/vnd.jupyter.widget-view+json": {
       "model_id": "dfb1b81bae214ee3afecc938bd74f7dc",
       "version_major": 2,
       "version_minor": 0
      },
      "text/plain": [
       "Map:   0%|          | 0/5749 [00:00<?, ? examples/s]"
      ]
     },
     "metadata": {},
     "output_type": "display_data"
    },
    {
     "data": {
      "application/vnd.jupyter.widget-view+json": {
       "model_id": "382889140d00482fa4a3e9f21e114514",
       "version_major": 2,
       "version_minor": 0
      },
      "text/plain": [
       "Map:   0%|          | 0/1500 [00:00<?, ? examples/s]"
      ]
     },
     "metadata": {},
     "output_type": "display_data"
    },
    {
     "data": {
      "application/vnd.jupyter.widget-view+json": {
       "model_id": "87f208c8056444a48b307dca4360818b",
       "version_major": 2,
       "version_minor": 0
      },
      "text/plain": [
       "Map:   0%|          | 0/1379 [00:00<?, ? examples/s]"
      ]
     },
     "metadata": {},
     "output_type": "display_data"
    },
    {
     "data": {
      "application/vnd.jupyter.widget-view+json": {
       "model_id": "867eac57889448e28158c9bc9cfaa237",
       "version_major": 2,
       "version_minor": 0
      },
      "text/plain": [
       "Map:   0%|          | 0/5749 [00:00<?, ? examples/s]"
      ]
     },
     "metadata": {},
     "output_type": "display_data"
    },
    {
     "data": {
      "application/vnd.jupyter.widget-view+json": {
       "model_id": "d41466d52a1442268f8fec769b781a32",
       "version_major": 2,
       "version_minor": 0
      },
      "text/plain": [
       "Map:   0%|          | 0/1500 [00:00<?, ? examples/s]"
      ]
     },
     "metadata": {},
     "output_type": "display_data"
    },
    {
     "data": {
      "application/vnd.jupyter.widget-view+json": {
       "model_id": "295c4c0ac4d14cbdb0b2e8e73460ed3a",
       "version_major": 2,
       "version_minor": 0
      },
      "text/plain": [
       "Map:   0%|          | 0/1379 [00:00<?, ? examples/s]"
      ]
     },
     "metadata": {},
     "output_type": "display_data"
    }
   ],
   "source": [
    "# Tokenize the datasets\n",
    "def process_samples(samples, tokenizer):\n",
    "    # Tokenize the text via the tokenizer\n",
    "    return tokenizer(samples[\"sentence1\"], samples[\"sentence2\"], padding=True, truncation=True, return_tensors=\"pt\")\n",
    "\n",
    "sts_b_HT = sts_b.map(lambda x: process_samples(x, tokenizer_HiT), batched=True)\n",
    "sts_b_LM = sts_b.map(lambda x: process_samples(x, tokenizer_allMini), batched=True)"
   ]
  },
  {
   "cell_type": "code",
   "execution_count": 6,
   "metadata": {},
   "outputs": [],
   "source": [
    "# Convert to PyTorch tensors\n",
    "def format_to_torch(dataset, label_key): \n",
    "    dataset = dataset.remove_columns([\"idx\"])\n",
    "    dataset.set_format(type='torch', columns=['input_ids', 'attention_mask', label_key])\n",
    "    return dataset\n",
    "\n",
    "def normalize_labels(example):\n",
    "\texample['label'] = example['label'] / 5.0\n",
    "\treturn example"
   ]
  },
  {
   "cell_type": "code",
   "execution_count": 7,
   "metadata": {},
   "outputs": [
    {
     "data": {
      "application/vnd.jupyter.widget-view+json": {
       "model_id": "453ddc866c85466ba4350f88f3855fa2",
       "version_major": 2,
       "version_minor": 0
      },
      "text/plain": [
       "Map:   0%|          | 0/1500 [00:00<?, ? examples/s]"
      ]
     },
     "metadata": {},
     "output_type": "display_data"
    },
    {
     "data": {
      "application/vnd.jupyter.widget-view+json": {
       "model_id": "875348a7e2314e509e2d3f79d3a3a670",
       "version_major": 2,
       "version_minor": 0
      },
      "text/plain": [
       "Map:   0%|          | 0/1500 [00:00<?, ? examples/s]"
      ]
     },
     "metadata": {},
     "output_type": "display_data"
    }
   ],
   "source": [
    "sts_b_LM_formatted = format_to_torch(sts_b_LM['validation'], \"label\").map(normalize_labels)\n",
    "sts_b_HT_formatted = format_to_torch(sts_b_HT['validation'], \"label\").map(normalize_labels)"
   ]
  },
  {
   "cell_type": "code",
   "execution_count": 13,
   "metadata": {},
   "outputs": [],
   "source": [
    "# Convert dataset to proper format\n",
    "def prepare_sentence_transformer_dataset(dataset):\n",
    "    return [{\"sentence1\": s1, \"sentence2\": s2, \"labels\": label} for s1, s2, label in zip(dataset[\"sentence1\"], dataset[\"sentence2\"], dataset[\"label\"])]\n",
    "\n",
    "# Prepare datasets\n",
    "sts_b_HT_data = prepare_sentence_transformer_dataset(sts_b_HT_formatted)\n",
    "sts_b_LM_data = prepare_sentence_transformer_dataset(sts_b_LM_formatted)"
   ]
  },
  {
   "cell_type": "code",
   "execution_count": null,
   "metadata": {},
   "outputs": [],
   "source": [
    "# Load the models\n",
    "device = torch.device(\"mps\" if torch.mps.is_available() else \"cuda\" if torch.cuda.is_available() else \"cpu\")\n",
    "hit_model = SentenceTransformer(\"Hierarchy-Transformers/HiT-MiniLM-L12-WordNetNoun\")\n",
    "elm_model = SentenceTransformer(\"sentence-transformers/all-MiniLM-L12-v2\")\n",
    "elm_model.to(device)\n",
    "hit_model.to(device)"
   ]
  },
  {
   "cell_type": "markdown",
   "metadata": {},
   "source": [
    "### Model Evaluation"
   ]
  },
  {
   "cell_type": "code",
   "execution_count": null,
   "metadata": {},
   "outputs": [],
   "source": [
    "def evaluate_model(model, dataset, batch_size=16):\n",
    "    dataloader = DataLoader(dataset, batch_size=batch_size)\n",
    "\n",
    "    model.eval()\n",
    "    device = torch.device(\"mps\" if torch.mps.is_available() else \"cuda\" if torch.cuda.is_available() else \"cpu\")\n",
    "    model.to(device)\n",
    "\n",
    "    all_predictions = []\n",
    "    all_labels = []\n",
    "\n",
    "    with torch.no_grad():\n",
    "        for batch in dataloader:\n",
    "            sentences1 = batch[\"sentence1\"]\n",
    "            sentences2 = batch[\"sentence2\"]\n",
    "            labels = batch[\"labels\"].numpy()  # Extract labels\n",
    "\n",
    "            # embed the sentences \n",
    "            embeddings1 = model.encode(sentences1, convert_to_tensor=True)\n",
    "            embeddings2 = model.encode(sentences2, convert_to_tensor=True)\n",
    "\n",
    "            # get cosine sims\n",
    "            similarity_scores = torch.nn.functional.cosine_similarity(embeddings1, embeddings2).cpu().numpy()\n",
    "\n",
    "            all_predictions.extend(similarity_scores)\n",
    "            all_labels.extend(labels)\n",
    "\n",
    "    all_predictions = np.array(all_predictions)\n",
    "    all_labels = np.array(all_labels)\n",
    "\n",
    "\n",
    "    metric = {\"pearson_correlation\": pearsonr(all_predictions, all_labels)[0]}\n",
    "\n",
    "    return metric"
   ]
  },
  {
   "cell_type": "code",
   "execution_count": 39,
   "metadata": {},
   "outputs": [
    {
     "name": "stdout",
     "output_type": "stream",
     "text": [
      "Hyperbolic Model Performance:\n",
      "STS-B: {'pearson_correlation': np.float32(0.76108116)}\n",
      "\n",
      "Euclidean Model Performance:\n",
      "STS-B: {'pearson_correlation': np.float32(0.8769108)}\n"
     ]
    }
   ],
   "source": [
    "# Evaluate models\n",
    "hit_results = evaluate_model(hit_model, sts_b_HT_data)\n",
    "print(\"Hyperbolic Model Performance:\")\n",
    "print(\"STS-B:\", hit_results)\n",
    "\n",
    "euclid_results = evaluate_model(elm_model, sts_b_LM_data)\n",
    "print(\"\\nEuclidean Model Performance:\")\n",
    "print(\"STS-B:\", euclid_results)\n"
   ]
  },
  {
   "cell_type": "markdown",
   "metadata": {},
   "source": [
    "As we can see from the results, the retraining into a hyperbolic heirarchy transformer cause the model to loose about 10% of its score on the 0-shot STS-B benchmark. This indicates that the retraining and rearchitecting of the model has a negative impact on its overall natural language understanding. However, this trade-off might be worth it when considering the results of the euclidean model on the hierarchy task. Recall, the F1 score recorded by the base (naive) Euclidean model was 0.209; the HiT scored 0.885. Thus the Naive Euclidean model performs terribly in hierarchical domain, wheras the HiT performs mediocerly in the language understanding domain. "
   ]
  },
  {
   "cell_type": "markdown",
   "metadata": {},
   "source": [
    "### What about the fine-tuned Euclidean?"
   ]
  },
  {
   "cell_type": "code",
   "execution_count": 33,
   "metadata": {},
   "outputs": [
    {
     "data": {
      "text/plain": [
       "BertModel(\n",
       "  (embeddings): BertEmbeddings(\n",
       "    (word_embeddings): Embedding(30522, 384, padding_idx=0)\n",
       "    (position_embeddings): Embedding(512, 384)\n",
       "    (token_type_embeddings): Embedding(2, 384)\n",
       "    (LayerNorm): LayerNorm((384,), eps=1e-12, elementwise_affine=True)\n",
       "    (dropout): Dropout(p=0.1, inplace=False)\n",
       "  )\n",
       "  (encoder): BertEncoder(\n",
       "    (layer): ModuleList(\n",
       "      (0-11): 12 x BertLayer(\n",
       "        (attention): BertAttention(\n",
       "          (self): BertSdpaSelfAttention(\n",
       "            (query): Linear(in_features=384, out_features=384, bias=True)\n",
       "            (key): Linear(in_features=384, out_features=384, bias=True)\n",
       "            (value): Linear(in_features=384, out_features=384, bias=True)\n",
       "            (dropout): Dropout(p=0.1, inplace=False)\n",
       "          )\n",
       "          (output): BertSelfOutput(\n",
       "            (dense): Linear(in_features=384, out_features=384, bias=True)\n",
       "            (LayerNorm): LayerNorm((384,), eps=1e-12, elementwise_affine=True)\n",
       "            (dropout): Dropout(p=0.1, inplace=False)\n",
       "          )\n",
       "        )\n",
       "        (intermediate): BertIntermediate(\n",
       "          (dense): Linear(in_features=384, out_features=1536, bias=True)\n",
       "          (intermediate_act_fn): GELUActivation()\n",
       "        )\n",
       "        (output): BertOutput(\n",
       "          (dense): Linear(in_features=1536, out_features=384, bias=True)\n",
       "          (LayerNorm): LayerNorm((384,), eps=1e-12, elementwise_affine=True)\n",
       "          (dropout): Dropout(p=0.1, inplace=False)\n",
       "        )\n",
       "      )\n",
       "    )\n",
       "  )\n",
       "  (pooler): BertPooler(\n",
       "    (dense): Linear(in_features=384, out_features=384, bias=True)\n",
       "    (activation): Tanh()\n",
       "  )\n",
       ")"
      ]
     },
     "execution_count": 33,
     "metadata": {},
     "output_type": "execute_result"
    }
   ],
   "source": [
    "cwd = os.getcwd()\n",
    "fine_tune_path = cwd + \"/scripts/training/sft\"\n",
    "checkpoint_path = fine_tune_path + \"/experiments/SFT-all-MiniLM-L12-v2-WordNetNoun-MixedHop-RandomNegatives/checkpoint-8802\"\n",
    "\n",
    "ft_euclidean = AutoModel.from_pretrained(checkpoint_path)\n",
    "ft_euclidean_tokenizer = AutoTokenizer.from_pretrained(checkpoint_path)\n",
    "ft_euclidean.to(device)"
   ]
  },
  {
   "cell_type": "code",
   "execution_count": null,
   "metadata": {},
   "outputs": [
    {
     "name": "stdout",
     "output_type": "stream",
     "text": [
      "Fine-tuned Euclidean Model Performance:\n",
      "STS-B: {'pearson_correlation': np.float32(0.5645594)}\n"
     ]
    }
   ],
   "source": [
    "# this model doesnt have an encode method so it needs its own evlaution function... \n",
    "def evaluate_bert_model(model, tokenizer, dataset, batch_size=16):\n",
    "    dataloader = DataLoader(dataset, batch_size=batch_size)\n",
    "\n",
    "    model.eval()\n",
    "    device = torch.device(\"mps\" if torch.mps.is_available() else \"cuda\" if torch.cuda.is_available() else \"cpu\")\n",
    "    model.to(device)\n",
    "\n",
    "    all_predictions = []\n",
    "    all_labels = []\n",
    "\n",
    "    with torch.no_grad():\n",
    "        for batch in dataloader:\n",
    "            sentences1 = batch[\"sentence1\"]\n",
    "            sentences2 = batch[\"sentence2\"]\n",
    "            labels = batch[\"labels\"].numpy()  \n",
    "            inputs1 = tokenizer(sentences1, padding=True, truncation=True, return_tensors=\"pt\").to(device)\n",
    "            inputs2 = tokenizer(sentences2, padding=True, truncation=True, return_tensors=\"pt\").to(device)\n",
    "            outputs1 = model(**inputs1)\n",
    "            outputs2 = model(**inputs2)\n",
    "            embeddings1 = outputs1.last_hidden_state.mean(dim=1)\n",
    "            embeddings2 = outputs2.last_hidden_state.mean(dim=1)\n",
    "            similarity_scores = torch.nn.functional.cosine_similarity(embeddings1, embeddings2).cpu().numpy()\n",
    "            all_predictions.extend(similarity_scores)\n",
    "            all_labels.extend(labels)\n",
    "\n",
    "    all_predictions = np.array(all_predictions)\n",
    "    all_labels = np.array(all_labels)\n",
    "\n",
    "    metric = {\"pearson_correlation\": pearsonr(all_predictions, all_labels)[0]}\n",
    "\n",
    "    return metric"
   ]
  },
  {
   "cell_type": "code",
   "execution_count": null,
   "metadata": {},
   "outputs": [
    {
     "name": "stdout",
     "output_type": "stream",
     "text": [
      "Fine-tuned Euclidean Model Performance:\n",
      "STS-B: {'pearson_correlation': np.float32(0.5645594)}\n"
     ]
    }
   ],
   "source": [
    "ft_euclid_results = evaluate_bert_model(ft_euclidean, ft_euclidean_tokenizer, sts_b_LM_data)\n",
    "print(\"Fine-tuned Euclidean Model Performance:\")\n",
    "print(\"STS-B:\", ft_euclid_results)"
   ]
  },
  {
   "cell_type": "markdown",
   "metadata": {},
   "source": [
    "Interestingly, the Fine-Tuned Euclidean model does worse than the HIT on the STS-B evaluation! This suggests that while one has some success when trying to reorganize the euclidean model's weights and embeddings to match the hierarchy task, this comes at the cost of greatly imparing its general semantic abilities. \n",
    "\n",
    "Conversely, it seems that training the hyperbolic model to do the hierarchy task allows it to retain most of its semantic abilities. This suggests that the hyperbolic embedding space is in fact much richer than the euclidean one, allowing the model to learn both hierarchical and general semantic relationships. While preliminary, this finding indicates that hyperbolic langauge models provide a good compromise between hierarchical abilities and language understanding, and could be suitable in situations where this duality is required."
   ]
  },
  {
   "cell_type": "markdown",
   "metadata": {},
   "source": [
    "### Results Summary"
   ]
  },
  {
   "cell_type": "code",
   "execution_count": 50,
   "metadata": {},
   "outputs": [
    {
     "data": {
      "image/png": "[encoded data removed]",
      "text/plain": [
       "<Figure size 800x500 with 1 Axes>"
      ]
     },
     "metadata": {},
     "output_type": "display_data"
    }
   ],
   "source": [
    "fig, ax = plt.subplots(figsize=(8, 5))\n",
    "ax.bar('HiT', hit_results['pearson_correlation'])\n",
    "ax.bar(\"Euclidean\", euclid_results['pearson_correlation'])\n",
    "ax.bar('Fine-tuned Eucidean', ft_euclid_results['pearson_correlation'])\n",
    "ax.set_ylabel(\"STS-B evaluation results\")\n",
    "ax.set_xlabel(\"Model Type\")\n",
    "ax.set_title(\"Evaluation Results for the different models, STS-B\")\n",
    "plt.show()"
   ]
  },
  {
   "cell_type": "markdown",
   "metadata": {},
   "source": [
    "## Citations:\n",
    "\n",
    "Cer, D., Diab, M., Agirre, E., Lopez-Gazpio, I., & Specia, L. (2017). SemEval-2017 Task 1: Semantic Textual Similarity - Multilingual and Cross-lingual Focused Evaluation. Proceedings of the 11th International Workshop on Semantic Evaluation (SemEval-2017), 1–14. https://doi.org/10.18653/v1/S17-2001\n",
    "\n",
    "He, Y., Yuan, Z., Chen, J., & Horrocks, I. (2024). Language Models as Hierarchy Encoders (No. arXiv:2401.11374; Version 1). arXiv. https://doi.org/10.48550/arXiv.2401.11374\n"
   ]
  }
 ],
 "metadata": {
  "kernelspec": {
   "display_name": "hierarchytransformers",
   "language": "python",
   "name": "python3"
  },
  "language_info": {
   "codemirror_mode": {
    "name": "ipython",
    "version": 3
   },
   "file_extension": ".py",
   "mimetype": "text/x-python",
   "name": "python",
   "nbconvert_exporter": "python",
   "pygments_lexer": "ipython3",
   "version": "3.9.21"
  }
 },
 "nbformat": 4,
 "nbformat_minor": 2
}
