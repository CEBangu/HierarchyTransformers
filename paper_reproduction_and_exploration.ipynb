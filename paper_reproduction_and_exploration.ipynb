{
 "cells": [
  {
   "cell_type": "markdown",
   "metadata": {},
   "source": [
    "I think it would be cool to look at the embeddings for the subsumption task "
   ]
  },
  {
   "cell_type": "code",
   "execution_count": 40,
   "metadata": {},
   "outputs": [],
   "source": [
    "from hierarchy_transformers import HierarchyTransformer\n",
    "import pandas as pd\n",
    "import os\n"
   ]
  },
  {
   "cell_type": "code",
   "execution_count": null,
   "metadata": {},
   "outputs": [],
   "source": [
    "model = HierarchyTransformer.from_pretrained('Hierarchy-Transformers/HiT-MiniLM-L12-WordNetNoun')\n",
    "model.to(device='mps')\n"
   ]
  },
  {
   "cell_type": "code",
   "execution_count": 57,
   "metadata": {},
   "outputs": [
    {
     "data": {
      "text/html": [
       "<div>\n",
       "<style scoped>\n",
       "    .dataframe tbody tr th:only-of-type {\n",
       "        vertical-align: middle;\n",
       "    }\n",
       "\n",
       "    .dataframe tbody tr th {\n",
       "        vertical-align: top;\n",
       "    }\n",
       "\n",
       "    .dataframe thead th {\n",
       "        text-align: right;\n",
       "    }\n",
       "</style>\n",
       "<table border=\"1\" class=\"dataframe\">\n",
       "  <thead>\n",
       "    <tr style=\"text-align: right;\">\n",
       "      <th></th>\n",
       "      <th>Unnamed: 0</th>\n",
       "      <th>centri_weight</th>\n",
       "      <th>threshold</th>\n",
       "      <th>precision</th>\n",
       "      <th>recall</th>\n",
       "      <th>f1</th>\n",
       "      <th>accuracy</th>\n",
       "      <th>accuracy_on_negatives</th>\n",
       "    </tr>\n",
       "  </thead>\n",
       "  <tbody>\n",
       "    <tr>\n",
       "      <th>0</th>\n",
       "      <td>validation</td>\n",
       "      <td>2.0</td>\n",
       "      <td>-13.04</td>\n",
       "      <td>0.877274</td>\n",
       "      <td>0.895494</td>\n",
       "      <td>0.886290</td>\n",
       "      <td>0.979111</td>\n",
       "      <td>0.987472</td>\n",
       "    </tr>\n",
       "    <tr>\n",
       "      <th>1</th>\n",
       "      <td>testing</td>\n",
       "      <td>2.0</td>\n",
       "      <td>-13.04</td>\n",
       "      <td>0.876915</td>\n",
       "      <td>0.893568</td>\n",
       "      <td>0.885163</td>\n",
       "      <td>0.978922</td>\n",
       "      <td>0.987458</td>\n",
       "    </tr>\n",
       "  </tbody>\n",
       "</table>\n",
       "</div>"
      ],
      "text/plain": [
       "   Unnamed: 0  centri_weight  threshold  precision    recall        f1  \\\n",
       "0  validation            2.0     -13.04   0.877274  0.895494  0.886290   \n",
       "1     testing            2.0     -13.04   0.876915  0.893568  0.885163   \n",
       "\n",
       "   accuracy  accuracy_on_negatives  \n",
       "0  0.979111               0.987472  \n",
       "1  0.978922               0.987458  "
      ]
     },
     "execution_count": 57,
     "metadata": {},
     "output_type": "execute_result"
    }
   ],
   "source": [
    "evaluation_path = os.getcwd() + '/scripts/evaluation/hit/hit_eval_local/'\n",
    "evaluation_results = pd.read_csv(evaluation_path + \"results.tsv\", sep='\\t')\n",
    "evaluation_results"
   ]
  },
  {
   "cell_type": "code",
   "execution_count": null,
   "metadata": {},
   "outputs": [],
   "source": [
    "\n",
    "# entity names to be encoded.\n",
    "entity_names = [\"laptop\", \"personal computer\", \"fruit\", \"berry\"]\n",
    "\n",
    "# get the entity embeddings\n",
    "entity_embeddings = model.encode(entity_names)\n",
    "\n",
    "child_entity_embeddings = model.encode([\"laptop\", \"berry\"], convert_to_tensor=True)\n",
    "parent_entity_embeddings = model.encode([\"personal computer\", \"fruit\"], convert_to_tensor=True)\n",
    "\n",
    "# compute the hyperbolic distances and norms of entity embeddings\n",
    "dists = model.manifold.dist(child_entity_embeddings, parent_entity_embeddings)\n",
    "child_norms = model.manifold.dist0(child_entity_embeddings)\n",
    "parent_norms = model.manifold.dist0(parent_entity_embeddings)\n",
    "\n",
    "# use the empirical function for subsumption prediction proposed in the paper\n",
    "# `centri_score_weight` and the overall threshold are determined on the validation set\n",
    "\n",
    "centri_score_weight = evaluation_results.iloc[0, 1] # use the result on the validation set per the README\n",
    "threshold = -13.04\n",
    "subsumption_scores = - (dists + centri_score_weight * (parent_norms - child_norms))"
   ]
  },
  {
   "cell_type": "code",
   "execution_count": 67,
   "metadata": {},
   "outputs": [
    {
     "data": {
      "text/plain": [
       "np.float64(2.0)"
      ]
     },
     "execution_count": 67,
     "metadata": {},
     "output_type": "execute_result"
    }
   ],
   "source": [
    "centri_score_weight"
   ]
  },
  {
   "cell_type": "code",
   "execution_count": 33,
   "metadata": {},
   "outputs": [
    {
     "data": {
      "text/plain": [
       "torch.Size([2, 384])"
      ]
     },
     "execution_count": 33,
     "metadata": {},
     "output_type": "execute_result"
    }
   ],
   "source": [
    "child_entity_embeddings.shape"
   ]
  },
  {
   "cell_type": "code",
   "execution_count": 34,
   "metadata": {},
   "outputs": [
    {
     "data": {
      "text/plain": [
       "tensor([12.1125,  6.7239], device='mps:0')"
      ]
     },
     "execution_count": 34,
     "metadata": {},
     "output_type": "execute_result"
    }
   ],
   "source": [
    "dists"
   ]
  },
  {
   "cell_type": "code",
   "execution_count": 35,
   "metadata": {},
   "outputs": [
    {
     "data": {
      "text/plain": [
       "(tensor([19.1054, 15.2789], device='mps:0'),\n",
       " tensor([21.1878, 16.6117], device='mps:0'))"
      ]
     },
     "execution_count": 35,
     "metadata": {},
     "output_type": "execute_result"
    }
   ],
   "source": [
    "parent_norms, child_norms"
   ]
  },
  {
   "cell_type": "code",
   "execution_count": null,
   "metadata": {},
   "outputs": [],
   "source": []
  }
 ],
 "metadata": {
  "kernelspec": {
   "display_name": "hierarchytransformers",
   "language": "python",
   "name": "python3"
  },
  "language_info": {
   "codemirror_mode": {
    "name": "ipython",
    "version": 3
   },
   "file_extension": ".py",
   "mimetype": "text/x-python",
   "name": "python",
   "nbconvert_exporter": "python",
   "pygments_lexer": "ipython3",
   "version": "3.9.21"
  }
 },
 "nbformat": 4,
 "nbformat_minor": 2
}
